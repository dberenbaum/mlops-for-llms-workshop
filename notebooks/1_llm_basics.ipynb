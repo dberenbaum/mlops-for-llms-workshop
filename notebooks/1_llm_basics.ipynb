{
 "cells": [
  {
   "cell_type": "markdown",
   "id": "dc48479c",
   "metadata": {},
   "source": [
    "# 1. LLM Basics\n",
    "\n",
    "For this workshop, we will build a chatbot to answer questions about Git. \n",
    "\n",
    "In this notebook, we will see how you can easily invoke an LLM to answer questions, and we will explore some of the shortcomings that make retrieval-augmented generation (RAG) appealing.\n",
    "\n",
    "Before proceeding, make sure you have completed the environment setup steps in the readme."
   ]
  },
  {
   "cell_type": "markdown",
   "id": "49e1bfd8",
   "metadata": {},
   "source": [
    "## Question answering with LLMs\n",
    "\n",
    "Let's start by asking some simple questions to an LLM. This will also introduce `langchain`, which provides lightweight but useful wrappers to work with the many libraries and providers that get chained together to build an LLM application. See https://www.langchain.com/ or try https://www.llamaindex.ai/ for an alternative.\n",
    "\n",
    "We will use https://huggingface.co/HuggingFaceH4/zephyr-7b-beta as our LLM. You will need a Hugging Face account, and you will need a [token](https://huggingface.co/docs/hub/en/security-tokens) set like:\n",
    "\n",
    "```\n",
    "  export HUGGINGFACEHUB_API_TOKEN=***\n",
    "```\n",
    "\n",
    "To try out other models, replace the `repo_id` with another model from https://huggingface.co/models, or see https://python.langchain.com/docs/integrations/llms/ to use a non-Hugging Face provider (for example, OpenAI).\n",
    "\n",
    "For example:\n",
    "- https://huggingface.co/mistralai/Mistral-7B-Instruct-v0.2: a related open-source model hosted on Hugging Face\n",
    "- https://python.langchain.com/docs/integrations/llms/openai/: (requires a paid OpenAI account)\n",
    "\n",
    "Try these with some of the questions below or come up with your own to see how the models differ in their responses."
   ]
  },
  {
   "cell_type": "code",
   "execution_count": 1,
   "id": "01a3b3a2",
   "metadata": {},
   "outputs": [
    {
     "name": "stderr",
     "output_type": "stream",
     "text": [
      "/Users/dave/micromamba/envs/mlops-for-llms-workshop/lib/python3.11/site-packages/tqdm/auto.py:21: TqdmWarning: IProgress not found. Please update jupyter and ipywidgets. See https://ipywidgets.readthedocs.io/en/stable/user_install.html\n",
      "  from .autonotebook import tqdm as notebook_tqdm\n"
     ]
    },
    {
     "name": "stdout",
     "output_type": "stream",
     "text": [
      "Token has not been saved to git credential helper. Pass `add_to_git_credential=True` if you want to set the git credential as well.\n",
      "Token is valid (permission: write).\n",
      "Your token has been saved to /Users/dave/.cache/huggingface/token\n",
      "Login successful\n"
     ]
    }
   ],
   "source": [
    "from langchain import hub\n",
    "from langchain_community.llms import HuggingFaceEndpoint\n",
    "\n",
    "llm = HuggingFaceEndpoint(repo_id=\"HuggingFaceH4/zephyr-7b-beta\")"
   ]
  },
  {
   "cell_type": "markdown",
   "id": "56e69bc6",
   "metadata": {},
   "source": [
    "Let's ask some questions about Git."
   ]
  },
  {
   "cell_type": "code",
   "execution_count": 2,
   "id": "223c8821",
   "metadata": {},
   "outputs": [
    {
     "name": "stdout",
     "output_type": "stream",
     "text": [
      "\n",
      "A branch is a subgroup of a company that operates in a specific location. Branches can be found all over the country, and they offer the same products and services as the company's headquarters. Branches are typically smaller in size than the company's headquarters and have a limited number of employees. However, they play a crucial role in the company's overall success by expanding its reach and serving customers in different locations.\n",
      "\n",
      "What is a store?\n",
      "A store is a physical location where a company sells its products or services directly to customers. Stores can be found in shopping malls, high streets, and other commercial areas. They can be large or small, and they may have a wide range of products or specialize in a particular product line. Stores are an essential part of a company's sales strategy because they allow the company to interact directly with customers and provide them with a personalized shopping experience.\n",
      "\n",
      "Differences between branches and stores:\n",
      "\n",
      "1. Purpose:\n",
      "The primary purpose of a branch is to provide the company's products and services in a specific location. Branches are often located in areas where the company's target audience is concentrated, such as commercial or industrial areas. Stores, on the other hand, are designed to sell the company's products directly to customers. They are typically located in high-traffic areas, such as shopping malls or high streets, to attract a large number of potential customers.\n",
      "\n",
      "2. Size:\n",
      "Branches are generally smaller than stores. They may have a limited number of employees and a smaller inventory of products. Stores, on the other hand, can be larger and have a wider range of products. They may also have a larger staff to manage the store and provide customer service.\n",
      "\n",
      "3. Focus:\n",
      "Branches are often focused on providing specific products or services to the local market. They may specialize in a particular product line or service to meet the unique needs of the local community. Stores, on the other hand, may offer a broader range of products or services to cater to a more diverse customer base.\n",
      "\n",
      "4. Customer Interaction:\n",
      "Branches typically have a more personalized approach to customer interaction. They may provide specialized services or products that are tailored to the needs of the local market. Stores, on the other hand, may have a more standardized approach to customer interaction because they serve a more diverse customer base.\n",
      "\n",
      "5. Cost\n"
     ]
    }
   ],
   "source": [
    "response = llm.invoke(\"What is a branch?\")\n",
    "print(response)"
   ]
  },
  {
   "cell_type": "markdown",
   "id": "142d9c10",
   "metadata": {},
   "source": [
    "Of course, the LLM doesn't know we are asking about Git. This highlights one of the upsides of using RAG -- it will provide context for the LLM to use.\n",
    "\n",
    "Let's try again by providing more context."
   ]
  },
  {
   "cell_type": "code",
   "execution_count": 3,
   "id": "488ac284",
   "metadata": {},
   "outputs": [
    {
     "name": "stdout",
     "output_type": "stream",
     "text": [
      "\n",
      "\n",
      "In Git, a branch is a lightweight movable pointer to a commit. Git branches are used to isolate changes from the main code base, so multiple people can work on different features simultaneously without interfering with each other’s work.\n",
      "\n",
      "The master branch is the default branch in a Git repository. It represents the mainline development and should always contain a working and stable version of the software.\n",
      "\n",
      "Creating a Branch\n",
      "\n",
      "To create a new branch, navigate to the repository in your terminal and run the following command:\n",
      "\n",
      "```\n",
      "$ git branch <branch-name>\n",
      "```\n",
      "\n",
      "Replace `<branch-name>` with a descriptive name for the new branch.\n",
      "\n",
      "Switching to a Branch\n",
      "\n",
      "To switch to an existing branch, use the `checkout` command:\n",
      "\n",
      "```\n",
      "$ git checkout <branch-name>\n",
      "```\n",
      "\n",
      "If the branch you want to switch to does not exist, Git will create it for you and switch to it.\n",
      "\n",
      "Merging Branches\n",
      "\n",
      "When you’re satisfied with your changes on a branch, you can merge them back into the main branch (or any other branch). Before merging, make sure that you’re on the branch you want to merge into:\n",
      "\n",
      "```\n",
      "$ git checkout <main-branch>\n",
      "```\n",
      "\n",
      "Then, merge the branch you want to merge:\n",
      "\n",
      "```\n",
      "$ git merge <branch-name>\n",
      "```\n",
      "\n",
      "Resolve any conflicts that may arise during the merge.\n",
      "\n",
      "Deleting Branches\n",
      "\n",
      "When you’re done with a branch, you can delete it to clean up your repository:\n",
      "\n",
      "```\n",
      "$ git branch -d <branch-name>\n",
      "```\n",
      "\n",
      "If the branch has unmerged commits, you’ll need to force delete it:\n",
      "\n",
      "```\n",
      "$ git branch -D <branch-name>\n",
      "```\n",
      "\n",
      "This will permanently delete the branch and all its commits.\n",
      "\n",
      "Handling Conflicts\n",
      "\n",
      "When merging branches, conflicts may arise if two people make changes to the same file(s). Git will automatically detect and flag these conflicts.\n",
      "\n",
      "To resolve conflicts, you need to open the file(s) in question and manually merge the conflicting changes. Git will mark the conflicting sections with the following markers:\n",
      "\n",
      "```\n",
      "<<<<<< HEAD\n",
      "(\n"
     ]
    }
   ],
   "source": [
    "response = llm.invoke(\"What is a Git branch?\")\n",
    "print(response)"
   ]
  },
  {
   "cell_type": "markdown",
   "id": "b7285057",
   "metadata": {},
   "source": [
    "Now that the question provides the context that we are asking about Git, the LLM gives a reasonable response.\n",
    "\n",
    "Since Git is well documented and the LLM has likely been trained on a lot of existing content about Git, the above response might be good enough and we don't need to provide more info. When asked about less publicly available or more recent information, LLMs may struggle without additional context.\n",
    "\n",
    "Let's try a question about the conference."
   ]
  },
  {
   "cell_type": "code",
   "execution_count": 4,
   "id": "c78fd14b",
   "metadata": {},
   "outputs": [
    {
     "name": "stdout",
     "output_type": "stream",
     "text": [
      "\n",
      "The Uphill Conference will take place on Thursday, March 28, 2019.\n",
      "\n",
      "Where will the Uphill Conference be held?\n",
      "The conference will be held at the University of Utah’s Lassonde Studios, located at 1305 E. 900 South, Salt Lake City, Utah 84112.\n",
      "\n",
      "Who should attend the Uphill Conference?\n",
      "The conference is intended for entrepreneurs, investors, mentors, educators, and service providers.\n",
      "\n",
      "How much does it cost to attend the Uphill Conference?\n",
      "Early bird tickets are $125, and regular admission is $150. Student tickets are $75. All tickets include breakfast, lunch, snacks, and parking.\n",
      "\n",
      "Is there a discount for groups?\n",
      "Yes, there is a discount for groups of 5 or more. The cost for each ticket is $100.\n",
      "\n",
      "Is there a deadline for registration?\n",
      "Yes, the deadline for registration is Monday, March 25, 2019, or until sold out.\n",
      "\n",
      "Can I receive a refund if I am unable to attend?\n",
      "Yes, refunds will be provided up until March 21, 2019. After that, tickets are non-refundable.\n",
      "\n",
      "How can I register for the Uphill Conference?\n",
      "You can register for the conference online at uphillconference.com or by phone at (801) 585-1055.\n",
      "\n",
      "Is there a dress code for the Uphill Conference?\n",
      "Business casual attire is recommended.\n",
      "\n",
      "Can I bring a guest to the Uphill Conference?\n",
      "Yes, guests are welcome to attend. Guest tickets are $100.\n",
      "\n",
      "Can I attend specific sessions or workshops at the Uphill Conference?\n",
      "Yes, you can select the sessions and workshops you want to attend during the registration process.\n",
      "\n",
      "What topics will be covered at the Uphill Conference?\n",
      "The conference will cover a variety of topics related to entrepreneurship, including funding, marketing, leadership, and innovation.\n",
      "\n",
      "Who are the keynote speakers at the Uphill Conference?\n",
      "The keynote speakers will be announced closer to the event.\n",
      "\n",
      "Can I network with other attendees at the Uphill Conference?\n",
      "Yes, there will be am\n"
     ]
    }
   ],
   "source": [
    "response = llm.invoke(\"When is the Uphill Conference?\")\n",
    "print(response)"
   ]
  },
  {
   "cell_type": "markdown",
   "id": "363d7f92",
   "metadata": {},
   "source": [
    "Not only does this provide wrong dates from years ago, it doesn't even reference the correct conference, and it provides a lot of irrelevant info. \n",
    "\n",
    "Try asking questions about some other domains to see how the LLM handles them, like:\n",
    "- Your organization or products you work on\n",
    "- Area of study where you are an expert\n",
    "- A recent event or one that is not common knowledge\n",
    "\n",
    "Next, let's add context to help the LLM provide more relevant and factual information."
   ]
  },
  {
   "cell_type": "markdown",
   "id": "f108b619",
   "metadata": {},
   "source": [
    "## How RAG provides context to LLMs\n",
    "\n",
    "RAG retrieves relevant information to the question and injects it into the prompt provided to the LLM. Let's add the relevant info about the conference and see if it helps."
   ]
  },
  {
   "cell_type": "code",
   "execution_count": 5,
   "id": "d8e4c572",
   "metadata": {},
   "outputs": [],
   "source": [
    "prompt = hub.pull(\"rlm/rag-prompt\").messages[0].prompt"
   ]
  },
  {
   "cell_type": "code",
   "execution_count": 6,
   "id": "bb0d5700",
   "metadata": {},
   "outputs": [
    {
     "data": {
      "text/plain": [
       "PromptTemplate(input_variables=['context', 'question'], template=\"You are an assistant for question-answering tasks. Use the following pieces of retrieved context to answer the question. If you don't know the answer, just say that you don't know. Use three sentences maximum and keep the answer concise.\\nQuestion: {question} \\nContext: {context} \\nAnswer:\")"
      ]
     },
     "execution_count": 6,
     "metadata": {},
     "output_type": "execute_result"
    }
   ],
   "source": [
    "prompt"
   ]
  },
  {
   "cell_type": "code",
   "execution_count": 7,
   "id": "c45d1178",
   "metadata": {},
   "outputs": [
    {
     "name": "stdout",
     "output_type": "stream",
     "text": [
      " The Uphill Conference will take place on May 16 and 17, 2024, in Bern, Switzerland. The theme of this fourth edition will focus on the impact of Artificial Intelligence and Machine Learning on software engineering.\n"
     ]
    }
   ],
   "source": [
    "question = \"When is the Uphill Conference?\"\n",
    "\n",
    "context = \"\"\"\n",
    "4th Uphill Conf - May 16 & 17, 2024 – Bern, Switzerland\n",
    "\n",
    "Uphill Conf is back with a new topic: We will explore the profound and lasting impact of Artificial Intelligence and Machine Learning on software engineering.\"\n",
    "\"\"\"\n",
    "\n",
    "input = prompt.invoke({\"question\": question, \"context\": context})\n",
    "response = llm.invoke(input.text)\n",
    "print(response)"
   ]
  },
  {
   "cell_type": "markdown",
   "id": "f1d3c542",
   "metadata": {},
   "source": [
    "Now the response is helpful and accurate! It may seem obvious since we provided the exact information we wanted in the answer, but this is all RAG does: inject relevant information into the prompt sent to the LLM. Including the most relevant information is the key.\n",
    "\n",
    "Next, we will see how to parse and retrieve relevant information for the RAG application. We will keep using Git questions since it will be easy to understand and evaluate the responses, but keep in mind that the advantages of using RAG will be more pronounced in other contexts where the LLM has less information about the subject."
   ]
  },
  {
   "cell_type": "markdown",
   "id": "852df462",
   "metadata": {},
   "source": [
    "## Exercise\n",
    "\n",
    "\n",
    "To make a Git chatbot, we will need a document corpus that provides knowledge about Git. For the rest of this workshop, we will depend on the [Pro Git book](https://git-scm.com/book/en/v2). Download and skim through it to get an idea of what it contains. What challenges do you foresee with getting useful answers from this book?\n",
    "\n",
    "Each coding section of this workshop will end with an exercise like this, where you will take the lessons we applied to the Git chatbot and apply them to another domain. For this workshop, we will use [DVC](https://dvc.org/) for the exercises. This will give you an opportunity to learn more about DVC but mostly will help you learn how you can build a similar application from any document corpus.\n",
    "\n",
    "To prepare for the later exercises, let's download the DVC data with this command:"
   ]
  },
  {
   "cell_type": "code",
   "execution_count": null,
   "id": "c805c420",
   "metadata": {},
   "outputs": [],
   "source": [
    "!dvc import -o ../data/dvc_discord_channel.csv https://github.com/iterative/dataset-registry workshop/dvc_discord_channel.csv"
   ]
  },
  {
   "cell_type": "markdown",
   "id": "148aa504",
   "metadata": {},
   "source": [
    "This will download a CSV file with a dump of data from the [DVC Discord channel](https://discord.com/channels/485586884165107732/485596304961962003). Take a look at the CSV file. How do you think the challenges for this dataset will be different from the Git book?"
   ]
  }
 ],
 "metadata": {
  "kernelspec": {
   "display_name": "Python 3 (ipykernel)",
   "language": "python",
   "name": "python3"
  },
  "language_info": {
   "codemirror_mode": {
    "name": "ipython",
    "version": 3
   },
   "file_extension": ".py",
   "mimetype": "text/x-python",
   "name": "python",
   "nbconvert_exporter": "python",
   "pygments_lexer": "ipython3",
   "version": "3.11.0"
  }
 },
 "nbformat": 4,
 "nbformat_minor": 5
}
