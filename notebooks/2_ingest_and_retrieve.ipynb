{
 "cells": [
  {
   "cell_type": "markdown",
   "id": "f8999efb",
   "metadata": {},
   "source": [
    "# 2. Ingest and Retrieve documents\n",
    "\n",
    "In this notebook, we will use the [Pro Git book](https://git-scm.com/book/en/v2) to feed relevant information to our LLM. We will parse the text of the book, retrieve text relevant to the questions being asked, and inject the relevant text into the prompt sent to the LLM."
   ]
  },
  {
   "cell_type": "markdown",
   "id": "c0bf5993",
   "metadata": {},
   "source": [
    "## Ingest documents from the Pro Git book\n",
    "\n",
    "We will use a PDF of the Pro Git book from https://github.com/progit/progit2/releases/download/2.1.426/progit.pdf as our source of information. Let's start by extracting the text from the PDF."
   ]
  },
  {
   "cell_type": "code",
   "execution_count": 1,
   "id": "6ea6faee-292f-4eaf-89c7-2a46edfc9740",
   "metadata": {},
   "outputs": [],
   "source": [
    "import json\n",
    "from langchain_community.document_loaders import PyPDFLoader\n",
    "from langchain_text_splitters import CharacterTextSplitter, RecursiveCharacterTextSplitter\n",
    "from ruamel.yaml import YAML"
   ]
  },
  {
   "cell_type": "code",
   "execution_count": 2,
   "id": "ca2cfc06",
   "metadata": {},
   "outputs": [],
   "source": [
    "pdf_path = \"https://github.com/progit/progit2/releases/download/2.1.426/progit.pdf\"\n",
    "loader = PyPDFLoader(pdf_path)\n",
    "pages = loader.load_and_split()"
   ]
  },
  {
   "cell_type": "code",
   "execution_count": 3,
   "id": "75678908",
   "metadata": {},
   "outputs": [
    {
     "data": {
      "text/plain": [
       "Document(page_content='Pro Git\\nScott Chacon, Ben Straub\\nVersion 2.1.426, 2024-04-05', metadata={'source': 'https://github.com/progit/progit2/releases/download/2.1.426/progit.pdf', 'page': 1})"
      ]
     },
     "execution_count": 3,
     "metadata": {},
     "output_type": "execute_result"
    }
   ],
   "source": [
    "pages[0]"
   ]
  },
  {
   "cell_type": "markdown",
   "id": "e0ec8c49",
   "metadata": {},
   "source": [
    "### Page chunking\n",
    "\n",
    "Now we have the entire book chunked into pages. However, pages are probably not the most useful way to chunk the text for a few reasons:\n",
    "\n",
    "1. Injecting entire pages into our prompts may exceed the maximum input size of the LLM and/or limit the number of relevant results we can include.\n",
    "2. Pages are not meaningful boundaries. A page may end in the middle of a sentence, for example."
   ]
  },
  {
   "cell_type": "code",
   "execution_count": 4,
   "id": "fd96fbee",
   "metadata": {},
   "outputs": [],
   "source": [
    "docs = []\n",
    "# Skip intro and appendix\n",
    "for page in range(17, 460):\n",
    "    text = pages[page].page_content\n",
    "    docs.append(text)"
   ]
  },
  {
   "cell_type": "code",
   "execution_count": 5,
   "id": "b596a18e",
   "metadata": {},
   "outputs": [
    {
     "name": "stdout",
     "output_type": "stream",
     "text": [
      "Getting Started\n",
      "This chapter will be about getting started with Git. We will begin by explaining some background\n",
      "on version control tools, then move on to how to get Git running on your system and finally how to\n",
      "get it set up to start working with. At the end of this chapter you should understand why Git is\n",
      "around, why you should use it and you should be all set up to do so.\n",
      "About Version Control\n",
      "What is “version control”, and why should you care? Version control is a system that records\n",
      "changes to a file or set of files over time so that you can recall specific versions later. For the\n",
      "examples in this book, you will use software source code as the files being version controlled,\n",
      "though in reality you can do this with nearly any type of file on a computer.\n",
      "If you are a graphic or web designer and want to keep every version of an image or layout (which\n",
      "you would most certainly want to), a Version Control System (VCS) is a very wise thing to use. It\n",
      "allows you to revert selected files back to a previous state, revert the entire project back to a\n",
      "previous state, compare changes over time, see who last modified something that might be causing\n",
      "a problem, who introduced an issue and when, and more. Using a VCS also generally means that if\n",
      "you screw things up or lose files, you can easily recover. In addition, you get all this for very little\n",
      "overhead.\n",
      "Local Version Control Systems\n",
      "Many people’s version-control method of choice is to copy files into another directory (perhaps a\n",
      "time-stamped directory, if they’re clever). This approach is very common because it is so simple, but\n",
      "it is also incredibly error prone. It is easy to forget which directory you’re in and accidentally write\n",
      "to the wrong file or copy over files you don’t mean to.\n",
      "To deal with this issue, programmers long ago developed local VCSs that had a simple database that\n",
      "kept all the changes to files under revision control.\n",
      "10\n"
     ]
    }
   ],
   "source": [
    "print(docs[0])"
   ]
  },
  {
   "cell_type": "code",
   "execution_count": 6,
   "id": "358403ad",
   "metadata": {
    "scrolled": true
   },
   "outputs": [
    {
     "name": "stdout",
     "output_type": "stream",
     "text": [
      "Installing from Source\n",
      "Some people may instead find it useful to install Git from source, because you’ll get the most recent\n",
      "version. The binary installers tend to be a bit behind, though as Git has matured in recent years,\n",
      "this has made less of a difference.\n",
      "If you do want to install Git from source, you need to have the following libraries that Git depends\n",
      "on: autotools, curl, zlib, openssl, expat, and libiconv. For example, if you’re on a system that has dnf\n",
      "(such as Fedora) or apt-get (such as a Debian-based system), you can use one of these commands to\n",
      "install the minimal dependencies for compiling and installing the Git binaries:\n",
      "$ sudo dnf install dh-autoreconf curl-devel expat-devel gettext-devel \\\n",
      "  openssl-devel perl-devel zlib-devel\n",
      "$ sudo apt-get install dh-autoreconf libcurl4-gnutls-dev libexpat1-dev \\\n",
      "  gettext libz-dev libssl-dev\n",
      "In order to be able to add the documentation in various formats (doc, html, info), these additional\n",
      "dependencies are required:\n",
      "$ sudo dnf install asciidoc xmlto docbook2X\n",
      "$ sudo apt-get install asciidoc xmlto docbook2x\n",
      "Users of RHEL and RHEL-derivatives like CentOS and Scientific Linux will have to\n",
      "enable the EPEL repository  to download the docbook2X  package.\n",
      "If you’re using a Debian-based distribution (Debian/Ubuntu/Ubuntu-derivatives), you also need the\n",
      "install-info  package:\n",
      "$ sudo apt-get install install-info\n",
      "If you’re using a RPM-based distribution (Fedora/RHEL/RHEL-derivatives), you also need the getopt\n",
      "package (which is already installed on a Debian-based distro):\n",
      "$ sudo dnf install getopt\n",
      "Additionally, if you’re using Fedora/RHEL/RHEL-derivatives, you need to do this:\n",
      "$ sudo ln -s /usr/bin/db2x_docbook2texi /usr/bin/docbook2x-texi\n",
      "due to binary name differences.\n",
      "When you have all the necessary dependencies, you can go ahead and grab the latest tagged release\n",
      "tarball from several places. You can get it via the kernel.org site, at https://www.kernel.org/pub/\n",
      "software/scm/git , or the mirror on the GitHub website, at https://github.com/git/git/tags . It’s\n",
      "20\n",
      "\n",
      "generally a little clearer what the latest version is on the GitHub page, but the kernel.org page also\n",
      "has release signatures if you want to verify your download.\n",
      "Then, compile and install:\n",
      "$ tar -zxf git-2.8.0.tar.gz\n",
      "$ cd git-2.8.0\n",
      "$ make configure\n",
      "$ ./configure --prefix=/usr\n",
      "$ make all doc info\n",
      "$ sudo make install install-doc install-html install-info\n",
      "After this is done, you can also get Git via Git itself for updates:\n",
      "$ git clone https://git.kernel.org/pub/scm/git/git.git\n",
      "First-Time Git Setup\n",
      "Now that you have Git on your system, you’ll want to do a few things to customize your Git\n",
      "environment. You should have to do these things only once on any given computer; they’ll stick\n",
      "around between upgrades. You can also change them at any time by running through the\n",
      "commands again.\n",
      "Git comes with a tool called git config  that lets you get and set configuration variables that control\n",
      "all aspects of how Git looks and operates.  These variables can be stored in three different places:\n",
      "1.[path]/etc/gitconfig  file: Contains values applied to every user on the system and all their\n",
      "repositories. If you pass the option --system  to git config , it reads and writes from this file\n",
      "specifically. Because this is a system configuration file, you would need administrative or\n",
      "superuser privilege to make changes to it.\n",
      "2.~/.gitconfig  or ~/.config/git/config  file: Values specific personally to you, the user. You can\n",
      "make Git read and write to this file specifically by passing the --global  option, and this affects\n",
      "all of the repositories you work with on your system.\n",
      "3.config file in the Git directory (that is, .git/config ) of whatever repository you’re currently\n",
      "using: Specific to that single repository. You can force Git to read from and write to this file with\n",
      "the --local option, but that is in fact the default. Unsurprisingly, you need to be located\n",
      "somewhere in a Git repository for this option to work properly.\n",
      "Each level overrides values in the previous level, so values in .git/config  trump those in\n",
      "[path]/etc/gitconfig .\n",
      "On Windows systems, Git looks for the .gitconfig  file in the $HOME directory ( C:\\Users\\$USER  for\n",
      "most people). It also still looks for [path]/etc/gitconfig , although it’s relative to the MSys root,\n",
      "which is wherever you decide to install Git on your Windows system when you run the installer. If\n",
      "you are using version 2.x or later of Git for Windows, there is also a system-level config file at\n",
      "C:\\Documents and Settings\\All Users\\Application Data\\Git\\config  on Windows XP, and in\n",
      "21\n",
      "\n",
      "C:\\ProgramData\\Git\\config  on Windows Vista and newer. This config file can only be changed by git\n",
      "config -f <file>  as an admin.\n",
      "You can view all of your settings and where they are coming from using:\n",
      "$ git config --list --show-origin\n",
      "Your Identity\n",
      "The first thing you should do when you install Git is to set your user name and email address. This\n",
      "is important because every Git commit uses this information, and it’s immutably baked into the\n",
      "commits you start creating:\n",
      "$ git config --global user.name \"John Doe\"\n",
      "$ git config --global user.email johndoe@example.com\n",
      "Again, you need to do this only once if you pass the --global  option, because then Git will always\n",
      "use that information for anything you do on that system. If you want to override this with a\n",
      "different name or email address for specific projects, you can run the command without the\n",
      "--global  option when you’re in that project.\n",
      "Many of the GUI tools will help you do this when you first run them.\n",
      "Your Editor\n",
      "Now that your identity is set up, you can configure the default text editor that will be used when Git\n",
      "needs you to type in a message. If not configured, Git uses your system’s default editor.\n",
      "If you want to use a different text editor, such as Emacs, you can do the following:\n",
      "$ git config --global core.editor emacs\n",
      "On a Windows system, if you want to use a different text editor, you must specify the full path to its\n",
      "executable file. This can be different depending on how your editor is packaged.\n",
      "In the case of Notepad++, a popular programming editor, you are likely to want to use the 32-bit\n",
      "version, since at the time of writing the 64-bit version doesn’t support all plug-ins. If you are on a\n",
      "32-bit Windows system, or you have a 64-bit editor on a 64-bit system, you’ll type something like\n",
      "this:\n",
      "$ git config --global core.editor \"'C:/Program Files/Notepad++/notepad++.exe'\n",
      "-multiInst -notabbar -nosession -noPlugin\"\n",
      "Vim, Emacs and Notepad++ are popular text editors often used by developers on\n",
      "Unix-based systems like Linux and macOS or a Windows system. If you are using\n",
      "22\n",
      "\n",
      "another editor, or a 32-bit version, please find specific instructions for how to set\n",
      "up your favorite editor with Git in git config core.editor commands .\n",
      "You may find, if you don’t setup your editor like this, you get into a really\n",
      "confusing state when Git attempts to launch it. An example on a Windows system\n",
      "may include a prematurely terminated Git operation during a Git initiated edit.\n",
      "Your default branch name\n",
      "By default Git will create a branch called master  when you create a new repository with git init .\n",
      "From Git version 2.28 onwards, you can set a different name for the initial branch.\n",
      "To set main  as the default branch name do:\n",
      "$ git config --global init.defaultBranch main\n",
      "Checking Your Settings\n",
      "If you want to check your configuration settings, you can use the git config --list  command to list\n",
      "all the settings Git can find at that point:\n",
      "$ git config --list\n",
      "user.name=John Doe\n",
      "user.email=johndoe@example.com\n",
      "color.status=auto\n",
      "color.branch=auto\n",
      "color.interactive=auto\n",
      "color.diff=auto\n",
      "...\n",
      "You may see keys more than once, because Git reads the same key from different files\n",
      "([path]/etc/gitconfig  and ~/.gitconfig , for example). In this case, Git uses the last value for each\n",
      "unique key it sees.\n",
      "You can also check what Git thinks a specific key’s value is by typing git config <key> :\n",
      "$ git config user.name\n",
      "John Doe\n",
      "Since Git might read the same configuration variable value from more than one\n",
      "file, it’s possible that you have an unexpected value for one of these values and\n",
      "you don’t know why. In cases like that, you can query Git as to the origin  for that\n",
      "value, and it will tell you which configuration file had the final say in setting that\n",
      "value:\n",
      "23\n",
      "\n",
      "$ git config --show-origin rerere.autoUpdate\n",
      "file:/home/johndoe/.gitconfig   false\n",
      "Getting Help\n",
      "If you ever need help while using Git, there are three equivalent ways to get the comprehensive\n",
      "manual page (manpage) help for any of the Git commands:\n",
      "$ git help <verb>\n",
      "$ git <verb> --help\n",
      "$ man git-<verb>\n",
      "For example, you can get the manpage help for the git config  command by running this: \n",
      "$ git help config\n",
      "These commands are nice because you can access them anywhere, even offline. If the manpages\n",
      "and this book aren’t enough and you need in-person help, you can try the #git, #github, or #gitlab\n",
      "channels on the Libera Chat IRC server, which can be found at https://libera.chat/ . These channels\n",
      "are regularly filled with hundreds of people who are all very knowledgeable about Git and are\n",
      "often willing to help. \n",
      "In addition, if you don’t need the full-blown manpage help, but just need a quick refresher on the\n",
      "available options for a Git command, you can ask for the more concise “help” output with the -h\n",
      "option, as in:\n",
      "$ git add -h\n",
      "usage: git add [<options>] [--] <pathspec>...\n",
      "    -n, --dry-run               dry run\n",
      "    -v, --verbose               be verbose\n",
      "    -i, --interactive           interactive picking\n",
      "    -p, --patch                 select hunks interactively\n",
      "    -e, --edit                  edit current diff and apply\n",
      "    -f, --force                 allow adding otherwise ignored files\n",
      "    -u, --update                update tracked files\n",
      "    --renormalize               renormalize EOL of tracked files (implies -u)\n",
      "    -N, --intent-to-add         record only the fact that the path will be added later\n",
      "    -A, --all                   add changes from all tracked and untracked files\n",
      "    --ignore-removal            ignore paths removed in the working tree (same as --no\n",
      "-all)\n",
      "    --refresh                   don't add, only refresh the index\n",
      "    --ignore-errors             just skip files which cannot be added because of\n",
      "errors\n",
      "24\n"
     ]
    }
   ],
   "source": [
    "print(\"\\n\\n\".join(docs[10:15]))"
   ]
  },
  {
   "cell_type": "markdown",
   "id": "57d8775d",
   "metadata": {},
   "source": [
    "### Alternative chunking strategies\n",
    "\n",
    "Instead of chunking by pages, we will chunk by characters and chunk size. We will limit chunks to 1500 characters, splitting recursively by periods and newline characters `[\".\\n\", \".\", \"\\n\"]`."
   ]
  },
  {
   "cell_type": "code",
   "execution_count": 7,
   "id": "aa6c702c",
   "metadata": {
    "scrolled": false
   },
   "outputs": [],
   "source": [
    "text_splitter = RecursiveCharacterTextSplitter(separators=[\".\\n\", \".\", \"\\n\"], chunk_size=1500, chunk_overlap=0)\n",
    "chunks = text_splitter.split_text(\"\\n\".join(docs))"
   ]
  },
  {
   "cell_type": "code",
   "execution_count": 8,
   "id": "e7497fb4",
   "metadata": {
    "scrolled": true
   },
   "outputs": [
    {
     "name": "stdout",
     "output_type": "stream",
     "text": [
      ".\n",
      "•Staged means that you have marked a modified file in its current version to go into your next\n",
      "commit snapshot.\n",
      "•Committed means that the data is safely stored in your local database.\n",
      "This leads us to the three main sections of a Git project: the working tree, the staging area, and the\n",
      "Git directory.\n",
      "Figure 6. Working tree, staging area, and Git directory\n",
      "The working tree is a single checkout of one version of the project. These files are pulled out of the\n",
      "compressed database in the Git directory and placed on disk for you to use or modify.\n",
      "The staging area is a file, generally contained in your Git directory, that stores information about\n",
      "what will go into your next commit. Its technical name in Git parlance is the “index”, but the phrase\n",
      "“staging area” works just as well.\n",
      "The Git directory is where Git stores the metadata and object database for your project. This is the\n",
      "most important part of Git, and it is what is copied when you clone  a repository from another\n",
      "computer.\n",
      "The basic Git workflow goes something like this:\n",
      "1.You modify files in your working tree.\n",
      "2.You selectively stage just those changes you want to be part of your next commit, which adds\n",
      "only  those changes to the staging area.\n",
      "3.You do a commit, which takes the files as they are in the staging area and stores that snapshot\n",
      "permanently to your Git directory\n",
      "\n",
      ".\n",
      "If a particular version of a file is in the Git directory, it’s considered committed . If it has been\n",
      "17\n",
      "modified and was added to the staging area, it is staged . And if it was changed since it was checked\n",
      "out but has not been staged, it is modified . In Git Basics , you’ll learn more about these states and\n",
      "how you can either take advantage of them or skip the staged part entirely.\n",
      "The Command Line\n",
      "There are a lot of different ways to use Git. There are the original command-line tools, and there\n",
      "are many graphical user interfaces of varying capabilities. For this book, we will be using Git on the\n",
      "command line. For one, the command line is the only place you can run all Git commands — most\n",
      "of the GUIs implement only a partial subset of Git functionality for simplicity. If you know how to\n",
      "run the command-line version, you can probably also figure out how to run the GUI version, while\n",
      "the opposite is not necessarily true. Also, while your choice of graphical client is a matter of\n",
      "personal taste, all users will have the command-line tools installed and available.\n",
      "So we will expect you to know how to open Terminal in macOS or Command Prompt or PowerShell\n",
      "in Windows. If you don’t know what we’re talking about here, you may need to stop and research\n",
      "that quickly so that you can follow the rest of the examples and descriptions in this book\n",
      "\n",
      ".\n",
      "Installing Git\n",
      "Before you start using Git, you have to make it available on your computer. Even if it’s already\n",
      "installed, it’s probably a good idea to update to the latest version. You can either install it as a\n",
      "package or via another installer, or download the source code and compile it yourself.\n",
      "This book was written using Git version 2. Since Git is quite excellent at preserving\n",
      "backwards compatibility, any recent version should work just fine. Though most of\n",
      "the commands we use should work even in ancient versions of Git, some of them\n",
      "might not or might act slightly differently.\n",
      "Installing on Linux\n",
      "If you want to install the basic Git tools on Linux via a binary installer, you can generally do so\n",
      "through the package management tool that comes with your distribution. If you’re on Fedora (or\n",
      "any closely-related RPM-based distribution, such as RHEL or CentOS), you can use dnf:\n",
      "$ sudo dnf install git-all\n",
      "If you’re on a Debian-based distribution, such as Ubuntu, try apt:\n",
      "$ sudo apt install git-all\n",
      "For more options, there are instructions for installing on several different Unix distributions on the\n",
      "Git website, at https://git-scm.com/download/linux .\n",
      "18\n",
      "Installing on macOS\n",
      "There are several ways to install Git on macOS. The easiest is probably to install the Xcode\n",
      "Command Line Tools.  On Mavericks (10.9) or above you can do this simply by trying to run git from\n",
      "the Terminal the very first time\n",
      "\n",
      ".\n",
      "$ git --version\n",
      "If you don’t have it installed already, it will prompt you to install it.\n",
      "If you want a more up to date version, you can also install it via a binary installer. A macOS Git\n",
      "installer is maintained and available for download at the Git website, at https://git-scm.com/\n",
      "download/mac .\n",
      "Figure 7. Git macOS installer\n",
      "Installing on Windows\n",
      "There are also a few ways to install Git on Windows.  The most official build is available for\n",
      "download on the Git website. Just go to https://git-scm.com/download/win  and the download will\n",
      "start automatically. Note that this is a project called Git for Windows, which is separate from Git\n",
      "itself; for more information on it, go to https://gitforwindows.org .\n",
      "To get an automated installation you can use the Git Chocolatey package . Note that the Chocolatey\n",
      "package is community maintained.\n",
      "19\n",
      "Installing from Source\n",
      "Some people may instead find it useful to install Git from source, because you’ll get the most recent\n",
      "version. The binary installers tend to be a bit behind, though as Git has matured in recent years,\n",
      "this has made less of a difference\n",
      "\n",
      ".\n",
      "If you do want to install Git from source, you need to have the following libraries that Git depends\n",
      "on: autotools, curl, zlib, openssl, expat, and libiconv. For example, if you’re on a system that has dnf\n",
      "(such as Fedora) or apt-get (such as a Debian-based system), you can use one of these commands to\n",
      "install the minimal dependencies for compiling and installing the Git binaries:\n",
      "$ sudo dnf install dh-autoreconf curl-devel expat-devel gettext-devel \\\n",
      "  openssl-devel perl-devel zlib-devel\n",
      "$ sudo apt-get install dh-autoreconf libcurl4-gnutls-dev libexpat1-dev \\\n",
      "  gettext libz-dev libssl-dev\n",
      "In order to be able to add the documentation in various formats (doc, html, info), these additional\n",
      "dependencies are required:\n",
      "$ sudo dnf install asciidoc xmlto docbook2X\n",
      "$ sudo apt-get install asciidoc xmlto docbook2x\n",
      "Users of RHEL and RHEL-derivatives like CentOS and Scientific Linux will have to\n",
      "enable the EPEL repository  to download the docbook2X  package.\n",
      "If you’re using a Debian-based distribution (Debian/Ubuntu/Ubuntu-derivatives), you also need the\n",
      "install-info  package:\n",
      "$ sudo apt-get install install-info\n",
      "If you’re using a RPM-based distribution (Fedora/RHEL/RHEL-derivatives), you also need the getopt\n",
      "package (which is already installed on a Debian-based distro):\n",
      "$ sudo dnf install getopt\n",
      "Additionally, if you’re using Fedora/RHEL/RHEL-derivatives, you need to do this:\n",
      "$ sudo ln -s /usr/bin/db2x_docbook2texi /usr/bin/docbook2x-texi\n",
      "due to binary name differences\n"
     ]
    }
   ],
   "source": [
    "print(\"\\n\\n\".join(chunks[10:15]))"
   ]
  },
  {
   "cell_type": "markdown",
   "id": "b85abfa1",
   "metadata": {},
   "source": [
    "### Advanced chunking strategies\n",
    "\n",
    "Chunks are no longer split in the middle of sentences, although there are some where we would probably choose a different way to split the chunks. These preprocessing steps can take a lot of time to fine-tune, and you can play with the parameters here. For example, you can try to adjust the parameters for `RecursiveCharacterTextSplitter` and re-chunk the PDF, or look into more advanced techniques like [semantic chunking](https://python.langchain.com/docs/modules/data_connection/document_transformers/semantic-chunker/).\n",
    "\n",
    "For now, let's save our results so we can reuse these chunked documents later."
   ]
  },
  {
   "cell_type": "code",
   "execution_count": 9,
   "id": "72f39c95",
   "metadata": {},
   "outputs": [],
   "source": [
    "with open(\"../data/docs.json\", \"w\") as f:\n",
    "    json.dump(chunks, f)"
   ]
  },
  {
   "cell_type": "markdown",
   "id": "bdc9588a",
   "metadata": {},
   "source": [
    "## Retrieving relevant documents\n",
    "\n",
    "We have split the PDF into chunks (each chunk is usually called a \"document\" in RAG terminology), but that's only useful if we can look up the chunks relevant to the question being asked. This is called information retrieval.\n",
    "\n",
    "Below, we use a [BM25](https://en.wikipedia.org/wiki/Okapi_BM25) retriever to find relevant documents. BM25 finds matching keywords between the question and documents, and ranks the documents, including weights for the word's frequency and the length of documents, both within that document and across all documents. A word match that appears often within a short document but appears seldom across all other documents will rank highly by BM25."
   ]
  },
  {
   "cell_type": "code",
   "execution_count": 10,
   "id": "ac3975c0",
   "metadata": {},
   "outputs": [],
   "source": [
    "from langchain import hub\n",
    "from langchain_community.retrievers import BM25Retriever\n",
    "from langchain_community.llms import HuggingFaceEndpoint"
   ]
  },
  {
   "cell_type": "code",
   "execution_count": 11,
   "id": "8d891552",
   "metadata": {},
   "outputs": [],
   "source": [
    "retriever = BM25Retriever.from_texts(chunks)\n",
    "\n",
    "question = \"What is a branch?\"\n",
    "\n",
    "context = retriever.get_relevant_documents(question)"
   ]
  },
  {
   "cell_type": "code",
   "execution_count": 12,
   "id": "d0f361d1",
   "metadata": {
    "scrolled": true
   },
   "outputs": [
    {
     "name": "stdout",
     "output_type": "stream",
     "text": [
      ".\n",
      "Figure 10. Commits and their parents\n",
      "A branch in Git is simply a lightweight movable pointer to one of these commits. The default branch\n",
      "name in Git is master. As you start making commits, you’re given a master branch that points to the\n",
      "last commit you made. Every time you commit, the master branch pointer moves forward\n",
      "automatically.\n",
      "The “master” branch in Git is not a special branch.  It is exactly like any other\n",
      "branch. The only reason nearly every repository has one is that the git init \n",
      "command creates it by default and most people don’t bother to change it.\n",
      "64\n",
      "Figure 11. A branch and its commit history\n",
      "Creating a New Branch\n",
      "What happens when you create a new branch? Well, doing so creates a new pointer for you to\n",
      "move around. Let’s say you want to create a new branch called testing. You do this with the git\n",
      "branch command: \n",
      "$ git branch testing\n",
      "This creates a new pointer to the same commit you’re currently on.\n",
      "Figure 12. Two branches pointing into the same series of commits\n",
      "How does Git know what branch you’re currently on? It keeps a special pointer called HEAD. Note\n",
      "that this is a lot different than the concept of HEAD in other VCSs you may be used to, such as\n",
      "Subversion or CVS. In Git, this is a pointer to the local branch you’re currently on. In this case,\n",
      "you’re still on master. The git branch  command only created  a new branch — it didn’t switch to that\n",
      "65\n",
      "branch\n",
      "\n",
      ".\n",
      "To see all the branches that contain work you haven’t yet merged in, you can run git branch --no\n",
      "-merged:\n",
      "$ git branch --no-merged\n",
      "  testing\n",
      "This shows your other branch. Because it contains work that isn’t merged in yet, trying to delete it\n",
      "with git branch -d  will fail:\n",
      "$ git branch -d testing\n",
      "error: The branch 'testing' is not fully merged.\n",
      "If you are sure you want to delete it, run 'git branch -D testing'.\n",
      "If you really do want to delete the branch and lose that work, you can force it with -D, as the helpful\n",
      "message points out.\n",
      "The options described above, --merged  and --no-merged  will, if not given a commit\n",
      "or branch name as an argument, show you what is, respectively, merged or not\n",
      "merged into your current  branch.\n",
      "You can always provide an additional argument to ask about the merge state with\n",
      "respect to some other branch without checking that other branch out first, as in,\n",
      "what is not merged into the master branch?\n",
      "$ git checkout testing\n",
      "$ git branch --no-merged master\n",
      "  topicA\n",
      "  featureB\n",
      "Changing a branch name\n",
      "Do not rename branches that are still in use by other collaborators. Do not rename\n",
      "a branch like master/main/mainline without having read the section Changing the\n",
      "master branch name\n",
      "\n",
      ".\n",
      "This leaves four important entries: the HEAD and (yet to be created) index files, and the objects and\n",
      "refs directories. These are the core parts of Git. The objects directory stores all the content for your\n",
      "database, the refs directory stores pointers into commit objects in that data (branches, tags,\n",
      "remotes and more), the HEAD file points to the branch you currently have checked out, and the index\n",
      "file is where Git stores your staging area information. You’ll now look at each of these sections in\n",
      "detail to see how Git operates.\n",
      "Git Objects\n",
      "Git is a content-addressable filesystem. Great. What does that mean? It means that at the core of Git\n",
      "is a simple key-value data store. What this means is that you can insert any kind of content into a\n",
      "Git repository, for which Git will hand you back a unique key you can use later to retrieve that\n",
      "content.\n",
      "As a demonstration, let’s look at the plumbing command git hash-object , which takes some data,\n",
      "stores it in your .git/objects  directory (the object database ), and gives you back the unique key that\n",
      "now refers to that data object\n",
      "\n",
      ".\n",
      "Applying: Update link\n",
      "Applying: Change page title\n",
      " index.html | 2 +-\n",
      " 1 file changed, 1 insertion(+), 1 deletion(-)\n",
      "You can probably tell from the output, but git p4 rebase  is a shortcut for git p4 sync  followed by\n",
      "git rebase p4/master . It’s a bit smarter than that, especially when working with multiple branches,\n",
      "but this is a good approximation.\n",
      "Now our history is linear again, and we’re ready to contribute our changes back to Perforce. The\n",
      "git p4 submit  command will try to create a new Perforce revision for every Git commit between\n",
      "p4/master  and master. Running it drops us into our favorite editor, and the contents of the file look\n",
      "something like this:\n",
      "# A Perforce Change Specification.\n",
      "#\n",
      "#  Change:      The change number. 'new' on a new changelist.\n",
      "#  Date:        The date this specification was last modified.\n",
      "#  Client:      The client on which the changelist was created.  Read-only.\n",
      "#  User:        The user who created the changelist.\n",
      "#  Status:      Either 'pending' or 'submitted'. Read-only.\n",
      "#  Type:        Either 'public' or 'restricted'. Default is 'public'.\n",
      "#  Description: Comments about the changelist.  Required.\n",
      "#  Jobs:        What opened jobs are to be closed by this changelist.\n",
      "#               You may delete jobs from this list.  (New changelists only.)\n",
      "#  Files:       What opened files from the default changelist are to be added\n",
      "#               to this changelist.  You may delete files from this list\n"
     ]
    }
   ],
   "source": [
    "print(\"\\n\\n\".join([doc.page_content for doc in context]))"
   ]
  },
  {
   "cell_type": "markdown",
   "id": "4baca4ab",
   "metadata": {},
   "source": [
    "### Applying relevant documents\n",
    "\n",
    "To build a RAG application, we then inject this context into the LLM prompt along with the question."
   ]
  },
  {
   "cell_type": "code",
   "execution_count": 13,
   "id": "2490a7f6",
   "metadata": {},
   "outputs": [
    {
     "name": "stdout",
     "output_type": "stream",
     "text": [
      "Token has not been saved to git credential helper. Pass `add_to_git_credential=True` if you want to set the git credential as well.\n",
      "Token is valid (permission: write).\n",
      "Your token has been saved to /Users/dave/.cache/huggingface/token\n",
      "Login successful\n"
     ]
    },
    {
     "name": "stderr",
     "output_type": "stream",
     "text": [
      "/Users/dave/micromamba/envs/mlops-for-llms-workshop/lib/python3.11/site-packages/tqdm/auto.py:21: TqdmWarning: IProgress not found. Please update jupyter and ipywidgets. See https://ipywidgets.readthedocs.io/en/stable/user_install.html\n",
      "  from .autonotebook import tqdm as notebook_tqdm\n"
     ]
    }
   ],
   "source": [
    "prompt = hub.pull(\"rlm/rag-prompt\").messages[0].prompt\n",
    "llm = HuggingFaceEndpoint(repo_id=\"HuggingFaceH4/zephyr-7b-beta\")"
   ]
  },
  {
   "cell_type": "code",
   "execution_count": 14,
   "id": "2bac931a",
   "metadata": {
    "scrolled": false
   },
   "outputs": [
    {
     "name": "stdout",
     "output_type": "stream",
     "text": [
      "You are an assistant for question-answering tasks. Use the following pieces of retrieved context to answer the question. If you don't know the answer, just say that you don't know. Use three sentences maximum and keep the answer concise.\n",
      "Question: What is a branch? \n",
      "Context: .\n",
      "Figure 10. Commits and their parents\n",
      "A branch in Git is simply a lightweight movable pointer to one of these commits. The default branch\n",
      "name in Git is master. As you start making commits, you’re given a master branch that points to the\n",
      "last commit you made. Every time you commit, the master branch pointer moves forward\n",
      "automatically.\n",
      "The “master” branch in Git is not a special branch.  It is exactly like any other\n",
      "branch. The only reason nearly every repository has one is that the git init \n",
      "command creates it by default and most people don’t bother to change it.\n",
      "64\n",
      "Figure 11. A branch and its commit history\n",
      "Creating a New Branch\n",
      "What happens when you create a new branch? Well, doing so creates a new pointer for you to\n",
      "move around. Let’s say you want to create a new branch called testing. You do this with the git\n",
      "branch command: \n",
      "$ git branch testing\n",
      "This creates a new pointer to the same commit you’re currently on.\n",
      "Figure 12. Two branches pointing into the same series of commits\n",
      "How does Git know what branch you’re currently on? It keeps a special pointer called HEAD. Note\n",
      "that this is a lot different than the concept of HEAD in other VCSs you may be used to, such as\n",
      "Subversion or CVS. In Git, this is a pointer to the local branch you’re currently on. In this case,\n",
      "you’re still on master. The git branch  command only created  a new branch — it didn’t switch to that\n",
      "65\n",
      "branch\n",
      "\n",
      ".\n",
      "To see all the branches that contain work you haven’t yet merged in, you can run git branch --no\n",
      "-merged:\n",
      "$ git branch --no-merged\n",
      "  testing\n",
      "This shows your other branch. Because it contains work that isn’t merged in yet, trying to delete it\n",
      "with git branch -d  will fail:\n",
      "$ git branch -d testing\n",
      "error: The branch 'testing' is not fully merged.\n",
      "If you are sure you want to delete it, run 'git branch -D testing'.\n",
      "If you really do want to delete the branch and lose that work, you can force it with -D, as the helpful\n",
      "message points out.\n",
      "The options described above, --merged  and --no-merged  will, if not given a commit\n",
      "or branch name as an argument, show you what is, respectively, merged or not\n",
      "merged into your current  branch.\n",
      "You can always provide an additional argument to ask about the merge state with\n",
      "respect to some other branch without checking that other branch out first, as in,\n",
      "what is not merged into the master branch?\n",
      "$ git checkout testing\n",
      "$ git branch --no-merged master\n",
      "  topicA\n",
      "  featureB\n",
      "Changing a branch name\n",
      "Do not rename branches that are still in use by other collaborators. Do not rename\n",
      "a branch like master/main/mainline without having read the section Changing the\n",
      "master branch name\n",
      "\n",
      ".\n",
      "This leaves four important entries: the HEAD and (yet to be created) index files, and the objects and\n",
      "refs directories. These are the core parts of Git. The objects directory stores all the content for your\n",
      "database, the refs directory stores pointers into commit objects in that data (branches, tags,\n",
      "remotes and more), the HEAD file points to the branch you currently have checked out, and the index\n",
      "file is where Git stores your staging area information. You’ll now look at each of these sections in\n",
      "detail to see how Git operates.\n",
      "Git Objects\n",
      "Git is a content-addressable filesystem. Great. What does that mean? It means that at the core of Git\n",
      "is a simple key-value data store. What this means is that you can insert any kind of content into a\n",
      "Git repository, for which Git will hand you back a unique key you can use later to retrieve that\n",
      "content.\n",
      "As a demonstration, let’s look at the plumbing command git hash-object , which takes some data,\n",
      "stores it in your .git/objects  directory (the object database ), and gives you back the unique key that\n",
      "now refers to that data object\n",
      "\n",
      ".\n",
      "Applying: Update link\n",
      "Applying: Change page title\n",
      " index.html | 2 +-\n",
      " 1 file changed, 1 insertion(+), 1 deletion(-)\n",
      "You can probably tell from the output, but git p4 rebase  is a shortcut for git p4 sync  followed by\n",
      "git rebase p4/master . It’s a bit smarter than that, especially when working with multiple branches,\n",
      "but this is a good approximation.\n",
      "Now our history is linear again, and we’re ready to contribute our changes back to Perforce. The\n",
      "git p4 submit  command will try to create a new Perforce revision for every Git commit between\n",
      "p4/master  and master. Running it drops us into our favorite editor, and the contents of the file look\n",
      "something like this:\n",
      "# A Perforce Change Specification.\n",
      "#\n",
      "#  Change:      The change number. 'new' on a new changelist.\n",
      "#  Date:        The date this specification was last modified.\n",
      "#  Client:      The client on which the changelist was created.  Read-only.\n",
      "#  User:        The user who created the changelist.\n",
      "#  Status:      Either 'pending' or 'submitted'. Read-only.\n",
      "#  Type:        Either 'public' or 'restricted'. Default is 'public'.\n",
      "#  Description: Comments about the changelist.  Required.\n",
      "#  Jobs:        What opened jobs are to be closed by this changelist.\n",
      "#               You may delete jobs from this list.  (New changelists only.)\n",
      "#  Files:       What opened files from the default changelist are to be added\n",
      "#               to this changelist.  You may delete files from this list \n",
      "Answer:\n"
     ]
    }
   ],
   "source": [
    "context_str = \"\\n\\n\".join([doc.page_content for doc in context])\n",
    "input = prompt.invoke({\"question\": question, \"context\": context_str})\n",
    "print(input.text)"
   ]
  },
  {
   "cell_type": "code",
   "execution_count": 15,
   "id": "91dc37ae",
   "metadata": {},
   "outputs": [
    {
     "name": "stdout",
     "output_type": "stream",
     "text": [
      " A branch in Git is a lightweight movable pointer to a specific commit in the project's history. It allows you to create a new line of development without affecting the original branch or other branches. Git provides commands to create, switch, and delete branches. The default branch name in Git is master.\n"
     ]
    }
   ],
   "source": [
    "response = llm.invoke(input.text)\n",
    "print(response)"
   ]
  },
  {
   "cell_type": "markdown",
   "id": "f77c0a4c",
   "metadata": {},
   "source": [
    "What are some other questions we can ask?"
   ]
  },
  {
   "cell_type": "markdown",
   "id": "a5a5a07f",
   "metadata": {},
   "source": [
    "### Embeddings and vector store retrievers\n",
    "\n",
    "BM25 is a good baseline for retrieval and proved useful here, returning relevant documents and providing enough context for the LLM to understand that the question was about Git branches. However, it is limited to matching words and has no concept of the actual meaning of the question or documents. Notice that some of the documents are not that relevant to the question.\n",
    "\n",
    "Most RAG applications calculate embedding vectors for each document that capture their semantic meaning and save those in an index. When a question is asked, it gets encoded into a vector using the same embedding model. Then, the distance between that question vector and all saved document vectors in the index is calculated using cosine similarity or a similar metric. The documents with the smallest distance from the question vector are returned as the relevant context.\n",
    "\n",
    "We will return to embeddings later in the workshop."
   ]
  },
  {
   "cell_type": "markdown",
   "id": "9fa4db02",
   "metadata": {},
   "source": [
    "## Exercise\n",
    "\n",
    "For this notebook's exercise, build a RAG application using the DVC data we downloaded to `../data/dvc_discord_channel.csv`. Unlike the Git PDF, this is a CSV file with several fields besides the actual text, broken down by message, including both questions and answers. You will need to:\n",
    "\n",
    "1. Parse the CSV data to and chunk it into documents. What are some meaningful ways to chunk the Discord data?\n",
    "2. Save the chunked data to `../data/docs_dvc.json` so that you can use it in future exercises.\n",
    "3. Retrieve relevant documents from the chunked data.\n",
    "4. Build a RAG application that applies the relevant documents and try asking some questions. Do the answers seem reasonable? What could you do to improve it?"
   ]
  },
  {
   "cell_type": "code",
   "execution_count": null,
   "id": "28fe0ab9",
   "metadata": {},
   "outputs": [],
   "source": []
  }
 ],
 "metadata": {
  "kernelspec": {
   "display_name": "Python 3 (ipykernel)",
   "language": "python",
   "name": "python3"
  },
  "language_info": {
   "codemirror_mode": {
    "name": "ipython",
    "version": 3
   },
   "file_extension": ".py",
   "mimetype": "text/x-python",
   "name": "python",
   "nbconvert_exporter": "python",
   "pygments_lexer": "ipython3",
   "version": "3.11.0"
  }
 },
 "nbformat": 4,
 "nbformat_minor": 5
}
